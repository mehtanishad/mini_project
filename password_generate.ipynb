{
 "cells": [
  {
   "cell_type": "code",
   "execution_count": 1,
   "id": "58da291d",
   "metadata": {},
   "outputs": [],
   "source": [
    "import random\n",
    "characters = \"ABCDEFGHIJKLMNOPQRSTUVWXYZabcdefghijklmnopqrstuvwxyz0123456789@#$%&*\"\n",
    "\n",
    "pass_length = int(input(\"enter the lenth of password: \"))\n",
    "pass_count = int(input(\"enter the number of password: \"))\n",
    "\n",
    "\n",
    "for i in range(0,pass_count):\n",
    "    password = \"\"\n",
    "    for j in range(0,pass_length):\n",
    "        pass_char = random.choice(characters)\n",
    "        password = password+pass_char\n",
    "    print(\"the password is\",password)\n",
    "\n"
   ]
  },
  {
   "cell_type": "code",
   "execution_count": 22,
   "id": "f798fcca",
   "metadata": {},
   "outputs": [
    {
     "ename": "IndentationError",
     "evalue": "unexpected indent (3227609258.py, line 4)",
     "output_type": "error",
     "traceback": [
      "\u001b[1;36m  Input \u001b[1;32mIn [22]\u001b[1;36m\u001b[0m\n\u001b[1;33m    pass_length = int(input(\"enter the lenth of password: \"))\u001b[0m\n\u001b[1;37m    ^\u001b[0m\n\u001b[1;31mIndentationError\u001b[0m\u001b[1;31m:\u001b[0m unexpected indent\n"
     ]
    }
   ],
   "source": []
  }
 ],
 "metadata": {
  "kernelspec": {
   "display_name": "Python 3.9.12 ('base')",
   "language": "python",
   "name": "python3"
  },
  "language_info": {
   "codemirror_mode": {
    "name": "ipython",
    "version": 3
   },
   "file_extension": ".py",
   "mimetype": "text/x-python",
   "name": "python",
   "nbconvert_exporter": "python",
   "pygments_lexer": "ipython3",
   "version": "3.9.12"
  },
  "vscode": {
   "interpreter": {
    "hash": "bc82704023d4157cdcb241593b20e2f1e61aba894b73e74a63455207fefd962c"
   }
  }
 },
 "nbformat": 4,
 "nbformat_minor": 5
}
