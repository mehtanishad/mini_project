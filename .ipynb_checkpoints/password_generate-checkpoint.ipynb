{
 "cells": [
  {
   "cell_type": "code",
   "execution_count": 23,
   "id": "58da291d",
   "metadata": {},
   "outputs": [
    {
     "name": "stdout",
     "output_type": "stream",
     "text": [
      "enter the lenth of password: 8\n",
      "enter the number of password: 2\n",
      "the password is ZdN@Uj42\n",
      "the password is 2@nRS&VW\n"
     ]
    }
   ],
   "source": [
    "import random\n",
    "characters = \"ABCDEFGHIJKLMNOPQRSTUVWXYZabcdefghijklmnopqrstuvwxyz0123456789@#$%&*\"\n",
    "\n",
    "pass_length = int(input(\"enter the lenth of password: \"))\n",
    "pass_count = int(input(\"enter the number of password: \"))\n",
    "\n",
    "\n",
    "for i in range(0,pass_count):\n",
    "    password = \"\"\n",
    "    for j in range(0,pass_length):\n",
    "        pass_char = random.choice(characters)\n",
    "        password = password+pass_char\n",
    "    print(\"the password is\",password)\n",
    "\n"
   ]
  },
  {
   "cell_type": "code",
   "execution_count": 22,
   "id": "f798fcca",
   "metadata": {},
   "outputs": [
    {
     "ename": "IndentationError",
     "evalue": "unexpected indent (3227609258.py, line 4)",
     "output_type": "error",
     "traceback": [
      "\u001b[1;36m  Input \u001b[1;32mIn [22]\u001b[1;36m\u001b[0m\n\u001b[1;33m    pass_length = int(input(\"enter the lenth of password: \"))\u001b[0m\n\u001b[1;37m    ^\u001b[0m\n\u001b[1;31mIndentationError\u001b[0m\u001b[1;31m:\u001b[0m unexpected indent\n"
     ]
    }
   ],
   "source": []
  }
 ],
 "metadata": {
  "kernelspec": {
   "display_name": "Python 3 (ipykernel)",
   "language": "python",
   "name": "python3"
  },
  "language_info": {
   "codemirror_mode": {
    "name": "ipython",
    "version": 3
   },
   "file_extension": ".py",
   "mimetype": "text/x-python",
   "name": "python",
   "nbconvert_exporter": "python",
   "pygments_lexer": "ipython3",
   "version": "3.9.12"
  }
 },
 "nbformat": 4,
 "nbformat_minor": 5
}
